{
 "cells": [
  {
   "cell_type": "markdown",
   "metadata": {},
   "source": [
    "# \t The Chars74K dataset\n",
    "\n",
    "# OCR\n",
    "\n",
    "## Department of Electrical and Computer Engineering, University of Thessaly, Volos, Greece\n",
    "\n",
    "## Project: IoT OCR Part5\n",
    "---\n",
    "\n",
    "In this project, we implement a solution about is the [Chars74k](http://www.ee.surrey.ac.uk/CVSSP/demos/chars74k/). Character recognition is a classic pattern recognition problem.The recognition is for latin letters and digits.\n",
    "> **Note**: 62 classes (0-9, A-Z, a-z)\n",
    "\n",
    "\n",
    "\n",
    "---\n",
    "\n",
    "## Introduction \n",
    "<img src=\"download.png\"> \n",
    "\n",
    "\n",
    "- **STEP 1** is a pre-processing step where we prepareoy data to be fed in the NN.\n",
    "\n",
    "- **STEP 2** is the Encoder step that takes the picture and converts it into D-dimensional tensor with L-Features with a CNN.This also cold feature extraction step because it detects patterns to help the detection process.\n",
    "- **STEP 3** is the decoder which accepts the Encoder output as input and returns a probability distribution over all the classes with a  DNN(deep neural network) .\n",
    "\n",
    "## The Data\n",
    "The Chars74k dataset consists of:\n",
    "\n",
    "- Image size: 64x64 or 128X128\n",
    "- 7705 characters obtained from natural images\n",
    "- 3410 hand drawn characters using a tablet PC\n",
    "- 62992 synthesised characters from computer font\n",
    "\n",
    "\n",
    "## Requirements\n",
    "- python3\n",
    "- Tansorflow 1.12 gpu\n",
    "- opencv\n",
    "- At least 16GB RAM\n",
    "- At least 3GB GPU RAM\n",
    "\n",
    "\n",
    "\n",
    "\n",
    "\n",
    "\n",
    "\n",
    "## Example!\n",
    "<img src=\"unnamed.png\"> "
   ]
  },
  {
   "cell_type": "code",
   "execution_count": 3,
   "metadata": {},
   "outputs": [
    {
     "name": "stdout",
     "output_type": "stream",
     "text": [
      "C:\\Users\\Theologis\\Desktop\\CAS Lab\\sem-supervised_chars74k\n"
     ]
    }
   ],
   "source": [
    "proj_directory = '/Users/Theologis/Desktop/CAS Lab/sem-supervised_chars74k/' ##TOCHANGE...\n",
    "%cd $proj_directory"
   ]
  },
  {
   "cell_type": "markdown",
   "metadata": {},
   "source": [
    "## STEP 1 \n",
    "  At this step we load every image. We also  randomly shuffle data to train,validate and test sets and then plot a radom image for visualisation  purposes .The output of the NN should be a one hot encoded vector.This vector must have 1 in the right class and 0 the other 62 classes.\n",
    "### Improving performance\n",
    "The dataset is quite small (less than 10K images). Data augmentation along with a  [GAN](https://www.tensorflow.org/tutorials/generative/dcgan) model help as increase our model's accuracy from 70%  to $88 $% .The GAN model also add the 63th class witch gives as the probability that the image is latter in the 62 classes. \n",
    "#### Data augmentation Steps\n",
    "- Random rotations between -10 and 10 degrees.\n",
    "- Random translation between -10 and 10 pixels in any direction.\n",
    "- Random zoom between factors of 1 and 1.3.\n",
    "- Gray scale."
   ]
  },
  {
   "cell_type": "code",
   "execution_count": 2,
   "metadata": {},
   "outputs": [
    {
     "name": "stderr",
     "output_type": "stream",
     "text": [
      "100%|███████████████████████████████████████████████████████████████████████████████████| 62/62 [00:06<00:00,  9.03i/s]\n",
      "100%|███████████████████████████████████████████████████████████████████████████████████| 62/62 [00:14<00:00,  4.24i/s]\n"
     ]
    },
    {
     "name": "stdout",
     "output_type": "stream",
     "text": [
      "Data successfully loades with shape :  (20, 20, 1)\n"
     ]
    }
   ],
   "source": [
    "from data_gen import load_data\n",
    "train_x, train_y,val_x, val_y,test_x, test_y,input_shape = load_data(proj_directory)\n",
    "\n"
   ]
  },
  {
   "cell_type": "code",
   "execution_count": 3,
   "metadata": {},
   "outputs": [
    {
     "name": "stdout",
     "output_type": "stream",
     "text": [
      "One hot Vector is: [0 0 0 0 0 0 0 0 0 0 1 0 0 0 0 0 0 0 0 0 0 0 0 0 0 0 0 0 0 0 0 0 0 0 0 0 0\n",
      " 0 0 0 0 0 0 0 0 0 0 0 0 0 0 0 0 0 0 0 0 0 0 0 0 0]\n"
     ]
    },
    {
     "data": {
      "image/png": "[encoded data removed]",
      "text/plain": [
       "<Figure size 432x288 with 1 Axes>"
      ]
     },
     "metadata": {
      "needs_background": "light"
     },
     "output_type": "display_data"
    }
   ],
   "source": [
    "import matplotlib.pyplot as plt\n",
    "plt.imshow(train_x[2])\n",
    "print(\"One hot Vector is:\",train_y[1])"
   ]
  },
  {
   "cell_type": "markdown",
   "metadata": {},
   "source": [
    "# Last steps (Our model)\n",
    "In semi-supervised learning, our goal is still to train a model that takes $x$ as input and generates $y$ as output. However, not all of our training examples have a label $y$. We need to develop an algorithm that is able to get better at classification by studying both labeled $(x, y)$ pairs and unlabeled $x$ examples.\n",
    "\n",
    "To do this for the Chars74K dataset, we'll turn the GAN discriminator into an 62 class discriminator. It will recognize the 10 different classes of real Chars74K, as well as an 63th class of fake images that come from the generator. The discriminator will get to train on real labeled images, real unlabeled images, and fake images. By drawing on three sources of data instead of just one, it will generalize to the test set much better than a traditional classifier trained on only one source of data.The idea of this model was form this [paper](https://arxiv.org/pdf/1606.03498.pdf)."
   ]
  },
  {
   "cell_type": "code",
   "execution_count": 2,
   "metadata": {},
   "outputs": [
    {
     "name": "stderr",
     "output_type": "stream",
     "text": [
      "C:\\Users\\Theologis\\anaconda3\\envs\\tf-dnndk\\lib\\site-packages\\tensorflow\\python\\framework\\dtypes.py:523: FutureWarning: Passing (type, 1) or '1type' as a synonym of type is deprecated; in a future version of numpy, it will be understood as (type, (1,)) / '(1,)type'.\n",
      "  _np_qint8 = np.dtype([(\"qint8\", np.int8, 1)])\n",
      "C:\\Users\\Theologis\\anaconda3\\envs\\tf-dnndk\\lib\\site-packages\\tensorflow\\python\\framework\\dtypes.py:524: FutureWarning: Passing (type, 1) or '1type' as a synonym of type is deprecated; in a future version of numpy, it will be understood as (type, (1,)) / '(1,)type'.\n",
      "  _np_quint8 = np.dtype([(\"quint8\", np.uint8, 1)])\n",
      "C:\\Users\\Theologis\\anaconda3\\envs\\tf-dnndk\\lib\\site-packages\\tensorflow\\python\\framework\\dtypes.py:525: FutureWarning: Passing (type, 1) or '1type' as a synonym of type is deprecated; in a future version of numpy, it will be understood as (type, (1,)) / '(1,)type'.\n",
      "  _np_qint16 = np.dtype([(\"qint16\", np.int16, 1)])\n",
      "C:\\Users\\Theologis\\anaconda3\\envs\\tf-dnndk\\lib\\site-packages\\tensorflow\\python\\framework\\dtypes.py:526: FutureWarning: Passing (type, 1) or '1type' as a synonym of type is deprecated; in a future version of numpy, it will be understood as (type, (1,)) / '(1,)type'.\n",
      "  _np_quint16 = np.dtype([(\"quint16\", np.uint16, 1)])\n",
      "C:\\Users\\Theologis\\anaconda3\\envs\\tf-dnndk\\lib\\site-packages\\tensorflow\\python\\framework\\dtypes.py:527: FutureWarning: Passing (type, 1) or '1type' as a synonym of type is deprecated; in a future version of numpy, it will be understood as (type, (1,)) / '(1,)type'.\n",
      "  _np_qint32 = np.dtype([(\"qint32\", np.int32, 1)])\n",
      "C:\\Users\\Theologis\\anaconda3\\envs\\tf-dnndk\\lib\\site-packages\\tensorflow\\python\\framework\\dtypes.py:532: FutureWarning: Passing (type, 1) or '1type' as a synonym of type is deprecated; in a future version of numpy, it will be understood as (type, (1,)) / '(1,)type'.\n",
      "  np_resource = np.dtype([(\"resource\", np.ubyte, 1)])\n"
     ]
    },
    {
     "name": "stdout",
     "output_type": "stream",
     "text": [
      "WARNING:tensorflow:From C:\\Users\\Theologis\\Desktop\\CAS Lab\\sem-supervised_chars74k\\model.py:105: calling reduce_max (from tensorflow.python.ops.math_ops) with keep_dims is deprecated and will be removed in a future version.\n",
      "Instructions for updating:\n",
      "keep_dims is deprecated, use keepdims instead\n",
      "WARNING:tensorflow:From C:\\Users\\Theologis\\Desktop\\CAS Lab\\sem-supervised_chars74k\\model.py:158: softmax_cross_entropy_with_logits (from tensorflow.python.ops.nn_ops) is deprecated and will be removed in a future version.\n",
      "Instructions for updating:\n",
      "\n",
      "Future major versions of TensorFlow will allow gradients to flow\n",
      "into the labels input on backprop by default.\n",
      "\n",
      "See `tf.nn.softmax_cross_entropy_with_logits_v2`.\n",
      "\n"
     ]
    }
   ],
   "source": [
    "from train_utils import GAN\n",
    "\n",
    "real_size = (32,32,1)\n",
    "learning_rate = 0.001\n",
    "\n",
    "net = GAN(real_size, learning_rate)\n"
   ]
  },
  {
   "cell_type": "code",
   "execution_count": null,
   "metadata": {},
   "outputs": [],
   "source": [
    "Model: \"sequential_12\"\n",
    "_________________________________________________________________\n",
    "Layer (type)                 Output Shape              Param #   \n",
    "=================================================================\n",
    "conv2d_68 (Conv2D)           (None, 15, 15, 64)        640       \n",
    "_________________________________________________________________\n",
    "conv2d_69 (Conv2D)           (None, 7, 7, 64)          36928     \n",
    "_________________________________________________________________\n",
    "batch_normalization_36 (Batc (None, 7, 7, 64)          256       \n",
    "_________________________________________________________________\n",
    "conv2d_70 (Conv2D)           (None, 3, 3, 64)          36928     \n",
    "_________________________________________________________________\n",
    "batch_normalization_37 (Batc (None, 3, 3, 64)          256       \n",
    "_________________________________________________________________\n",
    "conv2d_71 (Conv2D)           (None, 1, 1, 128)         73856     \n",
    "_________________________________________________________________\n",
    "batch_normalization_38 (Batc (None, 1, 1, 128)         512       \n",
    "_________________________________________________________________\n",
    "conv2d_72 (Conv2D)           (None, 1, 1, 128)         147584    \n",
    "_________________________________________________________________\n",
    "batch_normalization_39 (Batc (None, 1, 1, 128)         512       \n",
    "_________________________________________________________________\n",
    "conv2d_73 (Conv2D)           (None, 1, 1, 128)         147584    \n",
    "_________________________________________________________________\n",
    "flatten_10 (Flatten)         (None, 128)               0         \n",
    "_________________________________________________________________\n",
    "dense_10 (Dense)             (None, 62)                7998      \n",
    "=================================================================\n",
    "Total params: 453,054\n",
    "Trainable params: 452,286\n",
    "Non-trainable params: 768\n",
    "_________________________________________________________________"
   ]
  },
  {
   "cell_type": "markdown",
   "metadata": {},
   "source": [
    "# Train  model"
   ]
  },
  {
   "cell_type": "code",
   "execution_count": 3,
   "metadata": {
    "scrolled": true
   },
   "outputs": [
    {
     "name": "stderr",
     "output_type": "stream",
     "text": [
      "100%|███████████████████████████████████████████████████████████████████████████████████| 62/62 [00:37<00:00,  1.67i/s]\n"
     ]
    },
    {
     "name": "stdout",
     "output_type": "stream",
     "text": [
      "62992 data successfully loades with shape :  (32, 32, 1)\n",
      "Saving Test Data\n",
      "Epoch 0\n",
      "\t\tClassifier train accuracy:  0.698433524173028\n",
      "\t\tClassifier validation accuracy 0.7833227040816326\n",
      "\t\tStep time:  0.03152632713317871\n",
      "\t\tEpoch time:  15.537950038909912\n",
      "Epoch 1\n",
      "\t\tClassifier train accuracy:  0.816690853428225\n",
      "\t\tClassifier validation accuracy 0.8158482142857143\n",
      "\t\tStep time:  0.03152728080749512\n",
      "\t\tEpoch time:  12.98215937614441\n",
      "Epoch 2\n",
      "\t\tClassifier train accuracy:  0.8416197841083036\n",
      "\t\tClassifier validation accuracy 0.8391262755102041\n",
      "\t\tStep time:  0.032027482986450195\n",
      "\t\tEpoch time:  12.962141752243042\n",
      "Epoch 3\n",
      "\t\tClassifier train accuracy:  0.8609625668449198\n",
      "\t\tClassifier validation accuracy 0.8466198979591837\n",
      "\t\tStep time:  0.03302812576293945\n",
      "\t\tEpoch time:  13.037707328796387\n",
      "Epoch 4\n",
      "\t\tClassifier train accuracy:  0.8748185992883128\n",
      "\t\tClassifier validation accuracy 0.8670280612244898\n",
      "\t\tStep time:  0.032027244567871094\n",
      "\t\tEpoch time:  13.000174283981323\n",
      "Epoch 5\n",
      "\t\tClassifier train accuracy:  0.8867860763771545\n",
      "\t\tClassifier validation accuracy 0.8660714285714286\n",
      "\t\tStep time:  0.0320279598236084\n",
      "\t\tEpoch time:  13.181329727172852\n",
      "Epoch 6\n",
      "\t\tClassifier train accuracy:  0.9015565672027513\n",
      "\t\tClassifier validation accuracy 0.8757971938775511\n",
      "\t\tStep time:  0.03152656555175781\n",
      "\t\tEpoch time:  13.165316104888916\n",
      "Epoch 7\n",
      "\t\tClassifier train accuracy:  0.9111583802158917\n",
      "\t\tClassifier validation accuracy 0.8759566326530612\n",
      "\t\tStep time:  0.03302788734436035\n",
      "\t\tEpoch time:  13.159312009811401\n",
      "Epoch 8\n",
      "\t\tClassifier train accuracy:  0.9016957239130867\n",
      "\t\tClassifier validation accuracy 0.884406887755102\n",
      "\t\tStep time:  0.032027482986450195\n",
      "\t\tEpoch time:  13.48058795928955\n",
      "Epoch 9\n",
      "\t\tClassifier train accuracy:  0.918792119754289\n",
      "\t\tClassifier validation accuracy 0.8856823979591837\n",
      "\t\tStep time:  0.03152775764465332\n",
      "\t\tEpoch time:  13.006179809570312\n",
      "Epoch 10\n",
      "\t\tClassifier train accuracy:  0.9200047710872115\n",
      "\t\tClassifier validation accuracy 0.8874362244897959\n",
      "\t\tStep time:  0.03152751922607422\n",
      "\t\tEpoch time:  13.08674931526184\n",
      "Epoch 11\n",
      "\t\tClassifier train accuracy:  0.929566825040256\n",
      "\t\tClassifier validation accuracy 0.889030612244898\n",
      "\t\tStep time:  0.035530805587768555\n",
      "\t\tEpoch time:  13.23487663269043\n",
      "Epoch 12\n",
      "\t\tClassifier train accuracy:  0.9339204421207483\n",
      "\t\tClassifier validation accuracy 0.890625\n",
      "\t\tStep time:  0.031526803970336914\n",
      "\t\tEpoch time:  12.956137418746948\n",
      "Epoch 13\n",
      "\t\tClassifier train accuracy:  0.9375385165894679\n",
      "\t\tClassifier validation accuracy 0.8963647959183674\n",
      "\t\tStep time:  0.03603243827819824\n",
      "\t\tEpoch time:  12.691908836364746\n",
      "Epoch 14\n",
      "\t\tClassifier train accuracy:  0.9400830964356003\n",
      "\t\tClassifier validation accuracy 0.8962053571428571\n",
      "\t\tStep time:  0.03002619743347168\n",
      "\t\tEpoch time:  13.045714139938354\n",
      "INFO:tensorflow:No assets to save.\n",
      "INFO:tensorflow:No assets to write.\n",
      "INFO:tensorflow:SavedModel written to: ./savedmodel\\saved_model.pb\n",
      "\n",
      "Classifier test accuracy 0.8984375\n"
     ]
    }
   ],
   "source": [
    "from data_gen import Feature_Extraction\n",
    "from train_utils import train\n",
    "batch_size = 128\n",
    "epochs = 15\n",
    "##Data instantiation \n",
    "dataset = Feature_Extraction(minibatch_size=batch_size,proj_directory= proj_directory,real_size=real_size )\n",
    "###Train the model\n",
    "train_accuracies, valid_accuracies = train(net, dataset, epochs, batch_size, figsize=(10,5))"
   ]
  },
  {
   "cell_type": "code",
   "execution_count": 4,
   "metadata": {},
   "outputs": [
    {
     "data": {
      "text/plain": [
       "<matplotlib.legend.Legend at 0x2e166b65550>"
      ]
     },
     "execution_count": 4,
     "metadata": {},
     "output_type": "execute_result"
    },
    {
     "data": {
      "image/png": "[encoded data removed]",
      "text/plain": [
       "<Figure size 432x288 with 1 Axes>"
      ]
     },
     "metadata": {
      "needs_background": "light"
     },
     "output_type": "display_data"
    }
   ],
   "source": [
    "import matplotlib.pyplot as plt\n",
    "fig, ax = plt.subplots()\n",
    "plt.plot(train_accuracies, label='Train', alpha=0.5)\n",
    "plt.plot(valid_accuracies, label='Vlid', alpha=0.5)\n",
    "plt.title(\"Accuracy\")\n",
    "plt.legend()"
   ]
  },
  {
   "cell_type": "markdown",
   "metadata": {},
   "source": [
    "# Run Prediction"
   ]
  },
  {
   "cell_type": "code",
   "execution_count": 5,
   "metadata": {
    "scrolled": false
   },
   "outputs": [
    {
     "name": "stdout",
     "output_type": "stream",
     "text": [
      "INFO:tensorflow:Restoring parameters from ./savedmodel\\variables\\variables\n",
      "Output node/s name : discriminator/out:0\n",
      "Prediction of the first image is : E\n"
     ]
    }
   ],
   "source": [
    "from Prediction import Run_pred\n",
    "real_size = (32,32,1)\n",
    "Run_pred(proj_directory,\"/Users/Theologis/Desktop/CAS Lab/sem-supervised_chars74k/images/tempE2.png\",real_size=real_size)"
   ]
  },
  {
   "cell_type": "markdown",
   "metadata": {},
   "source": [
    "In this step we load the .pb that created in the training and run the prediction for a given image.The Output node/s name is the input in the next step without the \":0\".In the next step we must specify the output node of the NN. In the next step we are going to create the appropriate files for the DNNDK(frozen_model_dnndk.pd).We also  are going to print  all the notes of the model.\"Input_real\" is the input node and \"discriminator/out\" is the output node."
   ]
  },
  {
   "cell_type": "markdown",
   "metadata": {},
   "source": [
    "# Create DNNDK inputs"
   ]
  },
  {
   "cell_type": "code",
   "execution_count": 4,
   "metadata": {
    "scrolled": false
   },
   "outputs": [
    {
     "name": "stdout",
     "output_type": "stream",
     "text": [
      "INFO:tensorflow:Restoring parameters from ./savedmodel\\variables\\variables\n",
      "INFO:tensorflow:Restoring parameters from ./checkpoint\\checkpoint.ckpt\n",
      "INFO:tensorflow:Froze 20 variables.\n",
      "INFO:tensorflow:Converted 20 variables to const ops.\n",
      "DNNDK graph successfully created\n",
      "The nodes name are:\n",
      "prefix/input_real\n",
      "prefix/discriminator/dropout/Identity\n",
      "prefix/discriminator/conv2d/kernel\n",
      "prefix/discriminator/conv2d/kernel/read\n",
      "prefix/discriminator/conv2d/bias\n",
      "prefix/discriminator/conv2d/bias/read\n",
      "prefix/discriminator/conv2d/Conv2D\n",
      "prefix/discriminator/conv2d/BiasAdd\n",
      "prefix/discriminator/mul/x\n",
      "prefix/discriminator/mul\n",
      "prefix/discriminator/Maximum\n",
      "prefix/discriminator/dropout_1/Identity\n",
      "prefix/discriminator/conv2d_1/kernel\n",
      "prefix/discriminator/conv2d_1/kernel/read\n",
      "prefix/discriminator/conv2d_1/bias\n",
      "prefix/discriminator/conv2d_1/bias/read\n",
      "prefix/discriminator/conv2d_1/Conv2D\n",
      "prefix/discriminator/conv2d_1/BiasAdd\n",
      "prefix/discriminator/mul_1/x\n",
      "prefix/discriminator/mul_1\n",
      "prefix/discriminator/Maximum_1\n",
      "prefix/discriminator/conv2d_2/kernel\n",
      "prefix/discriminator/conv2d_2/kernel/read\n",
      "prefix/discriminator/conv2d_2/bias\n",
      "prefix/discriminator/conv2d_2/bias/read\n",
      "prefix/discriminator/conv2d_2/Conv2D\n",
      "prefix/discriminator/conv2d_2/BiasAdd\n",
      "prefix/discriminator/batch_normalization_1/gamma\n",
      "prefix/discriminator/batch_normalization_1/gamma/read\n",
      "prefix/discriminator/batch_normalization_1/beta\n",
      "prefix/discriminator/batch_normalization_1/beta/read\n",
      "prefix/discriminator/batch_normalization_1/Const\n",
      "prefix/discriminator/batch_normalization_1/Const_1\n",
      "prefix/discriminator/batch_normalization_1/FusedBatchNorm\n",
      "prefix/discriminator/mul_2/x\n",
      "prefix/discriminator/mul_2\n",
      "prefix/discriminator/Maximum_2\n",
      "prefix/discriminator/dropout_2/Identity\n",
      "prefix/discriminator/conv2d_3/kernel\n",
      "prefix/discriminator/conv2d_3/kernel/read\n",
      "prefix/discriminator/conv2d_3/bias\n",
      "prefix/discriminator/conv2d_3/bias/read\n",
      "prefix/discriminator/conv2d_3/Conv2D\n",
      "prefix/discriminator/conv2d_3/BiasAdd\n",
      "prefix/discriminator/batch_normalization_2/gamma\n",
      "prefix/discriminator/batch_normalization_2/gamma/read\n",
      "prefix/discriminator/batch_normalization_2/beta\n",
      "prefix/discriminator/batch_normalization_2/beta/read\n",
      "prefix/discriminator/batch_normalization_2/Const\n",
      "prefix/discriminator/batch_normalization_2/Const_1\n",
      "prefix/discriminator/batch_normalization_2/FusedBatchNorm\n",
      "prefix/discriminator/mul_3/x\n",
      "prefix/discriminator/mul_3\n",
      "prefix/discriminator/Maximum_3\n",
      "prefix/discriminator/conv2d_4/kernel\n",
      "prefix/discriminator/conv2d_4/kernel/read\n",
      "prefix/discriminator/conv2d_4/bias\n",
      "prefix/discriminator/conv2d_4/bias/read\n",
      "prefix/discriminator/conv2d_4/Conv2D\n",
      "prefix/discriminator/conv2d_4/BiasAdd\n",
      "prefix/discriminator/batch_normalization_3/gamma\n",
      "prefix/discriminator/batch_normalization_3/gamma/read\n",
      "prefix/discriminator/batch_normalization_3/beta\n",
      "prefix/discriminator/batch_normalization_3/beta/read\n",
      "prefix/discriminator/batch_normalization_3/Const\n",
      "prefix/discriminator/batch_normalization_3/Const_1\n",
      "prefix/discriminator/batch_normalization_3/FusedBatchNorm\n",
      "prefix/discriminator/mul_4/x\n",
      "prefix/discriminator/mul_4\n",
      "prefix/discriminator/Maximum_4\n",
      "prefix/discriminator/conv2d_5/kernel\n",
      "prefix/discriminator/conv2d_5/kernel/read\n",
      "prefix/discriminator/conv2d_5/bias\n",
      "prefix/discriminator/conv2d_5/bias/read\n",
      "prefix/discriminator/conv2d_5/Conv2D\n",
      "prefix/discriminator/conv2d_5/BiasAdd\n",
      "prefix/discriminator/mul_5/x\n",
      "prefix/discriminator/mul_5\n",
      "prefix/discriminator/Maximum_5\n",
      "prefix/discriminator/Mean/reduction_indices\n",
      "prefix/discriminator/Mean\n",
      "prefix/discriminator/dense/kernel\n",
      "prefix/discriminator/dense/kernel/read\n",
      "prefix/discriminator/dense/bias\n",
      "prefix/discriminator/dense/bias/read\n",
      "prefix/discriminator/dense/MatMul\n",
      "prefix/discriminator/dense/BiasAdd\n",
      "prefix/discriminator/out\n"
     ]
    }
   ],
   "source": [
    "from Create_DNNDK_files import Create_Frozen_graph\n",
    "Create_Frozen_graph(output_node_names=\"discriminator/out\")"
   ]
  },
  {
   "cell_type": "markdown",
   "metadata": {},
   "source": [
    "## Run DECENT_Q\n",
    "A script file named **“decen_q.sh”** can be found in ${dnndk_chars74k}/,\n",
    "shown as below. Run “sh decent_q.sh” to invoke the DECENT_Q tool to perform quantization with the\n",
    "appropriate parameters.\n"
   ]
  },
  {
   "cell_type": "code",
   "execution_count": null,
   "metadata": {},
   "outputs": [],
   "source": [
    "decent_q quantize \\\n",
    "  --input_graph_def frozen_model_dnndk.pb \\\n",
    "  --input_nodes  input_real\\\n",
    "  --input_shapes ?,32,32,1 \\\n",
    "  --output_nodes discriminator/out \\\n",
    "  --input_fn data_den.load_data\\\n",
    "  --method 1 \\\n",
    "  --gpu 0 \\\n",
    "  --calib_iter 10 \\\n",
    "  --output_dir ./quantize_results \\ "
   ]
  }
 ],
 "metadata": {
  "kernelspec": {
   "display_name": "TensorFlow-dnndk-1.12",
   "language": "python",
   "name": "tf-dnndk"
  },
  "language_info": {
   "codemirror_mode": {
    "name": "ipython",
    "version": 3
   },
   "file_extension": ".py",
   "mimetype": "text/x-python",
   "name": "python",
   "nbconvert_exporter": "python",
   "pygments_lexer": "ipython3",
   "version": "3.6.12"
  }
 },
 "nbformat": 4,
 "nbformat_minor": 4
}
