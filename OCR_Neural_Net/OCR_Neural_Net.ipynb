{
 "cells": [
  {
   "cell_type": "markdown",
   "metadata": {},
   "source": [
    "# \t The Chars74K dataset\n",
    "\n",
    "# OCR\n",
    "\n",
    "## Department of Electrical and Computer Engineering, University of Thessaly, Volos, Greece\n",
    "\n",
    "## Project: IoT OCR Part5\n",
    "---\n",
    "\n",
    "In this project, we implement a solution about is the [Chars74k](http://www.ee.surrey.ac.uk/CVSSP/demos/chars74k/). Character recognition is a classic pattern recognition problem.The recognition is for latin letters and digits.\n",
    "> **Note**: 62 classes (0-9, A-Z, a-z)\n",
    "\n",
    "\n",
    "\n",
    "---\n",
    "\n",
    "## Introduction \n",
    "<img src=\"download.png\"> \n",
    "\n",
    "\n",
    "- **STEP 1** is a pre-processing step where we prepareoy data to be fed in the NN.\n",
    "\n",
    "- **STEP 2** is the Encoder step that takes the picture and converts it into D-dimensional tensor with L-Features with a CNN.This also cold feature extraction step because it detects patterns to help the detection process.\n",
    "- **STEP 3** is the decoder which accepts the Encoder output as input and returns a probability distribution over all the classes with a  DNN(deep neural network) .\n",
    "\n",
    "## The Data\n",
    "The Chars74k dataset consists of:\n",
    "\n",
    "- Image size: 64x64 or 128X128\n",
    "- 7705 characters obtained from natural images\n",
    "- 3410 hand drawn characters using a tablet PC\n",
    "- 62992 synthesised characters from computer font\n",
    "\n",
    "\n",
    "## Requirements\n",
    "- python3\n",
    "- Tansorflow 1.12 gpu\n",
    "- opencv\n",
    "- At least 8GB RAM\n",
    "- At least 3GB GPU RAM\n",
    "\n",
    "\n",
    "\n",
    "\n",
    "\n",
    "\n",
    "\n",
    "## Example!\n",
    "<img src=\"unnamed.png\"> "
   ]
  },
  {
   "cell_type": "code",
   "execution_count": 2,
   "metadata": {},
   "outputs": [
    {
     "name": "stdout",
     "output_type": "stream",
     "text": [
      "C:\\Users\\Theologis\\Desktop\\CAS Lab\\sem-supervised_chars74k\n"
     ]
    }
   ],
   "source": [
    "proj_directory = '/Users/Theologis/Desktop/CAS Lab/sem-supervised_chars74k/' ##TOCHANGE... cd in the ${../../sem-supervised_chars74k}/ dir\n",
    "%cd $proj_directory\n",
    "real_size = (32,32,1)\n",
    "import tensorflow as tf \n"
   ]
  },
  {
   "cell_type": "markdown",
   "metadata": {},
   "source": [
    "## STEP 1 \n",
    "  At this step we load every image. We also  randomly shuffle data to train,validate and test sets and then plot a radom image for visualisation  purposes .The output of the NN should be a one hot encoded vector.This vector must have 1 in the right class and 0 the other 62 classes.\n",
    "### Improving performance\n",
    "The dataset is quite small (less than 10K images). Data augmentation along with a  [GAN](https://www.tensorflow.org/tutorials/generative/dcgan) model help as increase our model's accuracy from 70%  to $88 $% .The GAN model also add the 63th class witch gives as the probability that the image is latter in the 62 classes. \n",
    "#### Data augmentation Steps\n",
    "- Random rotations between -10 and 10 degrees.\n",
    "- Random translation between -10 and 10 pixels in any direction.\n",
    "- Random zoom between factors of 1 and 1.3.\n",
    "- Gray scale."
   ]
  },
  {
   "cell_type": "code",
   "execution_count": 2,
   "metadata": {},
   "outputs": [
    {
     "name": "stderr",
     "output_type": "stream",
     "text": [
      "100%|█████████████████████████████████████████████████████████████████████████████| 5430/5430 [00:02<00:00, 2642.51i/s]\n",
      "100%|█████████████████████████████████████████████████████████████████████████████| 6185/6185 [00:02<00:00, 2890.03i/s]\n"
     ]
    },
    {
     "name": "stdout",
     "output_type": "stream",
     "text": [
      "11487 data successfully loades with shape :  (32, 32, 1)\n",
      "Saving Test Data in the 'test_data' folder...\n"
     ]
    }
   ],
   "source": [
    "from data_gen import load_data\n",
    "train_x = load_data(_,proj_directory=proj_directory,real_size=real_size)\n",
    "\n"
   ]
  },
  {
   "cell_type": "markdown",
   "metadata": {},
   "source": [
    "# Last steps (Our model)\n",
    "In semi-supervised learning, our goal is still to train a model that takes $x$ as input and generates $y$ as output. However, not all of our training examples have a label $y$. We need to develop an algorithm that is able to get better at classification by studying both labeled $(x, y)$ pairs and unlabeled $x$ examples.\n",
    "\n",
    "To do this for the Chars74K dataset, we'll turn the GAN discriminator into an 62 class discriminator. It will recognize the 10 different classes of real Chars74K, as well as an 63th class of fake images that come from the generator. The discriminator will get to train on real labeled images, real unlabeled images, and fake images. By drawing on three sources of data instead of just one, it will generalize to the test set much better than a traditional classifier trained on only one source of data.The model was form this [paper](https://arxiv.org/pdf/1606.03498.pdf)."
   ]
  },
  {
   "cell_type": "code",
   "execution_count": 2,
   "metadata": {},
   "outputs": [
    {
     "name": "stdout",
     "output_type": "stream",
     "text": [
      "WARNING:tensorflow:From C:\\Users\\Theologis\\Desktop\\CAS Lab\\sem-supervised_chars74k\\model.py:106: calling reduce_max (from tensorflow.python.ops.math_ops) with keep_dims is deprecated and will be removed in a future version.\n",
      "Instructions for updating:\n",
      "keep_dims is deprecated, use keepdims instead\n",
      "WARNING:tensorflow:From C:\\Users\\Theologis\\Desktop\\CAS Lab\\sem-supervised_chars74k\\model.py:160: softmax_cross_entropy_with_logits (from tensorflow.python.ops.nn_ops) is deprecated and will be removed in a future version.\n",
      "Instructions for updating:\n",
      "\n",
      "Future major versions of TensorFlow will allow gradients to flow\n",
      "into the labels input on backprop by default.\n",
      "\n",
      "See `tf.nn.softmax_cross_entropy_with_logits_v2`.\n",
      "\n"
     ]
    }
   ],
   "source": [
    "from train_utils import GAN\n",
    "\n",
    "learning_rate = 0.001\n",
    "\n",
    "net = GAN(real_size, learning_rate)\n"
   ]
  },
  {
   "cell_type": "markdown",
   "metadata": {},
   "source": [
    "Our model is shown bellow.It has 450 of thousand parameters executing approximately  15 million of multiplying(6.9M) and adding operations(7.1M).The most complexity level is the conv2d_2 with 12 million of operations"
   ]
  },
  {
   "cell_type": "code",
   "execution_count": null,
   "metadata": {},
   "outputs": [],
   "source": [
    "Model: \"sequential_12\"\n",
    "_________________________________________________________________\n",
    "Layer (type)                 Output Shape              Param #   \n",
    "=================================================================\n",
    "conv2d_1 (Conv2D)           (None, 15, 15, 64)        640       \n",
    "_________________________________________________________________\n",
    "conv2d_2 (Conv2D)           (None, 7, 7, 64)          36928     \n",
    "_________________________________________________________________\n",
    "conv2d_3 (Conv2D)           (None, 3, 3, 64)          36928     \n",
    "_________________________________________________________________\n",
    "batch_normalization_1 (Batc (None, 3, 3, 64)          256       \n",
    "_________________________________________________________________\n",
    "conv2d_4 (Conv2D)           (None, 1, 1, 128)         73856     \n",
    "_________________________________________________________________\n",
    "batch_normalization_2 (Batc (None, 1, 1, 128)         512       \n",
    "_________________________________________________________________\n",
    "conv2d_5 (Conv2D)           (None, 1, 1, 128)         147584    \n",
    "_________________________________________________________________\n",
    "batch_normalization_3 (Batc (None, 1, 1, 128)         512       \n",
    "_________________________________________________________________\n",
    "conv2d_6 (Conv2D)           (None, 1, 1, 128)         147584    \n",
    "_________________________________________________________________\n",
    "flatten_1 (Flatten)         (None, 128)               0         \n",
    "_________________________________________________________________\n",
    "dense_1 (Dense)             (None, 62)                7998      \n",
    "=================================================================\n",
    "Total params: 453,054\n",
    "Trainable params: 452,286\n",
    "Non-trainable params: 768\n",
    "_________________________________________________________________"
   ]
  },
  {
   "cell_type": "markdown",
   "metadata": {},
   "source": [
    "# Train  model"
   ]
  },
  {
   "cell_type": "code",
   "execution_count": 3,
   "metadata": {
    "scrolled": true
   },
   "outputs": [
    {
     "name": "stderr",
     "output_type": "stream",
     "text": [
      "100%|█████████████████████████████████████████████████████████████████████████████| 5430/5430 [00:02<00:00, 2656.74i/s]\n",
      "100%|█████████████████████████████████████████████████████████████████████████████| 6185/6185 [00:02<00:00, 2859.50i/s]\n",
      "100%|███████████████████████████████████████████████████████████████████████████████████| 62/62 [03:08<00:00,  3.03s/i]\n",
      "100%|███████████████████████████████████████████████████████████████████████████████████| 62/62 [01:45<00:00,  1.70s/i]\n"
     ]
    },
    {
     "name": "stdout",
     "output_type": "stream",
     "text": [
      "11492 data successfully loades with shape :  (32, 32, 1)\n",
      "Epoch 0\n",
      "\t\tClassifier train accuracy:  0.3358712552294549\n",
      "\t\tClassifier validation accuracy 0.6612215909090909\n",
      "\t\tStep time:  0.024022579193115234\n",
      "\t\tEpoch time:  65.12619996070862\n",
      "Epoch 1\n",
      "\t\tClassifier train accuracy:  0.7079455655825733\n",
      "\t\tClassifier validation accuracy 0.7173295454545454\n",
      "\t\tStep time:  0.02602362632751465\n",
      "\t\tEpoch time:  64.45401573181152\n",
      "Epoch 2\n",
      "\t\tClassifier train accuracy:  0.7844005962780708\n",
      "\t\tClassifier validation accuracy 0.7487571022727273\n",
      "\t\tStep time:  0.025022268295288086\n",
      "\t\tEpoch time:  64.32308387756348\n",
      "INFO:tensorflow:No assets to save.\n",
      "INFO:tensorflow:No assets to write.\n",
      "INFO:tensorflow:SavedModel written to: ./savedmodel\\saved_model.pb\n",
      "\n",
      "Classifier test accuracy 0.7890625\n"
     ]
    }
   ],
   "source": [
    "from data_gen import Feature_Extraction\n",
    "#from train_utils import train\n",
    "from train_utils import train\n",
    "batch_size = 128\n",
    "epochs = 3\n",
    "##Data instantiation \n",
    "dataset = Feature_Extraction(minibatch_size=batch_size,proj_directory= proj_directory,real_size=real_size )\n",
    "###Train model\n",
    "train_accuracies, valid_accuracies = train(net, dataset, epochs, batch_size, figsize=(10,5))"
   ]
  },
  {
   "cell_type": "code",
   "execution_count": 4,
   "metadata": {},
   "outputs": [
    {
     "data": {
      "text/plain": [
       "<matplotlib.legend.Legend at 0x2e166b65550>"
      ]
     },
     "execution_count": 4,
     "metadata": {},
     "output_type": "execute_result"
    },
    {
     "data": {
      "image/png": "[encoded data removed]",
      "text/plain": [
       "<Figure size 432x288 with 1 Axes>"
      ]
     },
     "metadata": {
      "needs_background": "light"
     },
     "output_type": "display_data"
    }
   ],
   "source": [
    "import matplotlib.pyplot as plt\n",
    "fig, ax = plt.subplots()\n",
    "plt.plot(train_accuracies, label='Train', alpha=0.5)\n",
    "plt.plot(valid_accuracies, label='Vlid', alpha=0.5)\n",
    "plt.title(\"Accuracy\")\n",
    "plt.legend()"
   ]
  },
  {
   "cell_type": "markdown",
   "metadata": {},
   "source": [
    "# Run Prediction"
   ]
  },
  {
   "cell_type": "code",
   "execution_count": 2,
   "metadata": {
    "scrolled": false
   },
   "outputs": [
    {
     "name": "stdout",
     "output_type": "stream",
     "text": [
      "INFO:tensorflow:Restoring parameters from ./savedmodel\\variables\\variables\n",
      "Output node/s name : discriminator/out:0\n",
      "Prediction of the first image is : A\n",
      "P is real is : 0.9975901656834008\n",
      "Classification time:  0.0007691739797592163\n"
     ]
    }
   ],
   "source": [
    "from Prediction import Run_pred\n",
    "image = \"/Users/Theologis/Desktop/CAS Lab/sem-supervised_chars74k/dataset/ICDAR 2003/TrialTest Set/char/43/4211.jpg\"\n",
    "#image = \"/Users/Theologis/Desktop/CAS Lab/sem-supervised_chars74k/images/tempM1.png\n",
    "Run_pred(proj_directory,image,real_size=real_size)\n"
   ]
  },
  {
   "cell_type": "markdown",
   "metadata": {},
   "source": [
    "In this step we load the .pb that created in the training and run the prediction for a given image.The Output node/s name is the input in the next step without the \":0\".In the next step we must specify the output node of the NN. We are going to create the appropriate files for the DNNDK(frozen_model_dnndk.pd).We also  are going to print  all the notes of the model.\"Input_real\" is the input node and \"discriminator/out\" in the bottom is the output node."
   ]
  },
  {
   "cell_type": "markdown",
   "metadata": {},
   "source": [
    "# Create DNNDK inputs"
   ]
  },
  {
   "cell_type": "code",
   "execution_count": 4,
   "metadata": {
    "scrolled": false
   },
   "outputs": [
    {
     "name": "stdout",
     "output_type": "stream",
     "text": [
      "INFO:tensorflow:Restoring parameters from ./checkpoints\\discriminator.ckpt\n",
      "INFO:tensorflow:Froze 26 variables.\n",
      "INFO:tensorflow:Converted 26 variables to const ops.\n",
      "DNNDK graph successfully created\n",
      "Successfully created the file 'frozen_model_dnndk.pb'.The name of all model's nodes are:\n",
      "prefix/input_real\n",
      "prefix/discriminator/dropout/Identity\n",
      "prefix/discriminator/conv2d/kernel\n",
      "prefix/discriminator/conv2d/kernel/read\n",
      "prefix/discriminator/conv2d/bias\n",
      "prefix/discriminator/conv2d/bias/read\n",
      "prefix/discriminator/conv2d/Conv2D\n",
      "prefix/discriminator/conv2d/BiasAdd\n",
      "prefix/discriminator/conv2d/Relu\n",
      "prefix/discriminator/dropout_1/Identity\n",
      "prefix/discriminator/conv2d_1/kernel\n",
      "prefix/discriminator/conv2d_1/kernel/read\n",
      "prefix/discriminator/conv2d_1/bias\n",
      "prefix/discriminator/conv2d_1/bias/read\n",
      "prefix/discriminator/conv2d_1/Conv2D\n",
      "prefix/discriminator/conv2d_1/BiasAdd\n",
      "prefix/discriminator/conv2d_1/Relu\n",
      "prefix/discriminator/conv2d_2/kernel\n",
      "prefix/discriminator/conv2d_2/kernel/read\n",
      "prefix/discriminator/conv2d_2/bias\n",
      "prefix/discriminator/conv2d_2/bias/read\n",
      "prefix/discriminator/conv2d_2/Conv2D\n",
      "prefix/discriminator/conv2d_2/BiasAdd\n",
      "prefix/discriminator/batch_normalization/gamma\n",
      "prefix/discriminator/batch_normalization/gamma/read\n",
      "prefix/discriminator/batch_normalization/beta\n",
      "prefix/discriminator/batch_normalization/beta/read\n",
      "prefix/discriminator/batch_normalization/moving_mean\n",
      "prefix/discriminator/batch_normalization/moving_mean/read\n",
      "prefix/discriminator/batch_normalization/moving_variance\n",
      "prefix/discriminator/batch_normalization/moving_variance/read\n",
      "prefix/discriminator/batch_normalization/FusedBatchNorm\n",
      "prefix/discriminator/Relu\n",
      "prefix/discriminator/dropout_2/Identity\n",
      "prefix/discriminator/conv2d_3/kernel\n",
      "prefix/discriminator/conv2d_3/kernel/read\n",
      "prefix/discriminator/conv2d_3/bias\n",
      "prefix/discriminator/conv2d_3/bias/read\n",
      "prefix/discriminator/conv2d_3/Conv2D\n",
      "prefix/discriminator/conv2d_3/BiasAdd\n",
      "prefix/discriminator/batch_normalization_1/gamma\n",
      "prefix/discriminator/batch_normalization_1/gamma/read\n",
      "prefix/discriminator/batch_normalization_1/beta\n",
      "prefix/discriminator/batch_normalization_1/beta/read\n",
      "prefix/discriminator/batch_normalization_1/moving_mean\n",
      "prefix/discriminator/batch_normalization_1/moving_mean/read\n",
      "prefix/discriminator/batch_normalization_1/moving_variance\n",
      "prefix/discriminator/batch_normalization_1/moving_variance/read\n",
      "prefix/discriminator/batch_normalization_1/FusedBatchNorm\n",
      "prefix/discriminator/Relu_1\n",
      "prefix/discriminator/conv2d_4/kernel\n",
      "prefix/discriminator/conv2d_4/kernel/read\n",
      "prefix/discriminator/conv2d_4/bias\n",
      "prefix/discriminator/conv2d_4/bias/read\n",
      "prefix/discriminator/conv2d_4/Conv2D\n",
      "prefix/discriminator/conv2d_4/BiasAdd\n",
      "prefix/discriminator/batch_normalization_2/gamma\n",
      "prefix/discriminator/batch_normalization_2/gamma/read\n",
      "prefix/discriminator/batch_normalization_2/beta\n",
      "prefix/discriminator/batch_normalization_2/beta/read\n",
      "prefix/discriminator/batch_normalization_2/moving_mean\n",
      "prefix/discriminator/batch_normalization_2/moving_mean/read\n",
      "prefix/discriminator/batch_normalization_2/moving_variance\n",
      "prefix/discriminator/batch_normalization_2/moving_variance/read\n",
      "prefix/discriminator/batch_normalization_2/FusedBatchNorm\n",
      "prefix/discriminator/Relu_2\n",
      "prefix/discriminator/conv2d_5/kernel\n",
      "prefix/discriminator/conv2d_5/kernel/read\n",
      "prefix/discriminator/conv2d_5/bias\n",
      "prefix/discriminator/conv2d_5/bias/read\n",
      "prefix/discriminator/conv2d_5/Conv2D\n",
      "prefix/discriminator/conv2d_5/BiasAdd\n",
      "prefix/discriminator/conv2d_5/Relu\n",
      "prefix/discriminator/Mean/reduction_indices\n",
      "prefix/discriminator/Mean\n",
      "prefix/discriminator/dense/kernel\n",
      "prefix/discriminator/dense/kernel/read\n",
      "prefix/discriminator/dense/bias\n",
      "prefix/discriminator/dense/bias/read\n",
      "prefix/discriminator/dense/MatMul\n",
      "prefix/discriminator/dense/BiasAdd\n",
      "prefix/discriminator/out\n"
     ]
    }
   ],
   "source": [
    "from Create_DNNDK_files import Create_Frozen_graph\n",
    "Create_Frozen_graph(output_node_names=\"discriminator/out\")"
   ]
  },
  {
   "cell_type": "markdown",
   "metadata": {},
   "source": [
    "## Run DECENT_Q\n",
    "We can see below  a script file named **“decen_q.sh”** that can be found in ${dnndk_chars74k}/. Run “sh decent_q.sh” to invoke the DECENT_Q tool to perform quantization with the\n",
    "appropriate parameters.\n"
   ]
  },
  {
   "cell_type": "code",
   "execution_count": null,
   "metadata": {},
   "outputs": [],
   "source": [
    "decent_q quantize \\\n",
    "  --input_frozen_graph frozen_model_dnndk.pb \\\n",
    "  --input_nodes input_real \\\n",
    "  --input_shapes ?,32,32,1 \\\n",
    "  --output_nodes discriminator/out \\\n",
    "  --input_fn data_gen.load_data \\\n",
    "  --method 1 \\\n",
    "  --gpu 0 \\\n",
    "  --calib_iter 10 \\\n",
    "  --output_dir ./quantize_results \\"
   ]
  },
  {
   "cell_type": "markdown",
   "metadata": {},
   "source": [
    "# Evaluate dnndk model\n",
    "After we run the decen_q.sh script dnndk export two .pd files.The quantize_eval_model.pb under the quantize_results folder is the tensorflow model for evaluation.The foler \".../../sem-supervised_chars74k}/test_data/\" is where the test images were saved in the training prosses.Copy and paste them in the ${DNNDK_chars74k}/OCR_Zedboard direcory.The script files named \"eval.py\" is used to perform evaluation for the float and quantized model respectively.Evaluation is applied to the ICDAR 2003 dataset for the correct ptection that the input is char and the correct classification."
   ]
  },
  {
   "cell_type": "code",
   "execution_count": 1,
   "metadata": {},
   "outputs": [
    {
     "name": "stdout",
     "output_type": "stream",
     "text": [
      "C:\\Users\\Theologis\\Desktop\\CAS Lab\\dnndk_chars74k\n"
     ]
    }
   ],
   "source": [
    "proj_directory = '/Users/Theologis/Desktop/CAS Lab/dnndk_chars74k/' ##TOCHANGE... cd in the ${../../dnndk_chars74k}/ dir\n",
    "%cd $proj_directory"
   ]
  },
  {
   "cell_type": "code",
   "execution_count": 3,
   "metadata": {
    "scrolled": false
   },
   "outputs": [
    {
     "name": "stdout",
     "output_type": "stream",
     "text": [
      "11492 data successfully loades with shape :  (32, 32, 1)\n",
      "\n",
      "Classifier test accuracy 0.75438905\n",
      "P is real is accuracy: 0.9224894662921348\n"
     ]
    }
   ],
   "source": [
    "from eval import evaluate_dnndk_model\n",
    "evaluate_dnndk_model(proj_directory = proj_directory,input_node = \"input_real\",output_node = \"discriminator/out\")"
   ]
  },
  {
   "cell_type": "markdown",
   "metadata": {},
   "source": [
    "## Compiling TensorFlow Model\n",
    "Run The script file, dnnc_Zedboar.sh in $dnndk_chars74k/ to  compile TensorFlow model using DNNC.After the compilation is complite DNNC will generate two files under output_dir folder.Run the model in the DPU as in the user guide."
   ]
  }
 ],
 "metadata": {
  "kernelspec": {
   "display_name": "TensorFlow-dnndk-1.12",
   "language": "python",
   "name": "tf-dnndk"
  },
  "language_info": {
   "codemirror_mode": {
    "name": "ipython",
    "version": 3
   },
   "file_extension": ".py",
   "mimetype": "text/x-python",
   "name": "python",
   "nbconvert_exporter": "python",
   "pygments_lexer": "ipython3",
   "version": "3.6.12"
  }
 },
 "nbformat": 4,
 "nbformat_minor": 4
}
